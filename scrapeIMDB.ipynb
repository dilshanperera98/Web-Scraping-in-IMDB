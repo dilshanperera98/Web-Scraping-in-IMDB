{
  "nbformat": 4,
  "nbformat_minor": 0,
  "metadata": {
    "colab": {
      "provenance": []
    },
    "kernelspec": {
      "name": "python3",
      "display_name": "Python 3"
    },
    "language_info": {
      "name": "python"
    }
  },
  "cells": [
    {
      "cell_type": "code",
      "execution_count": 37,
      "metadata": {
        "id": "t_7Ta0ADlrZk"
      },
      "outputs": [],
      "source": [
        "from bs4 import BeautifulSoup\n",
        "import requests,openpyxl"
      ]
    },
    {
      "cell_type": "code",
      "source": [
        "excel = openpyxl.Workbook( )\n",
        "print(excel.sheetnames)\n",
        "sheet = excel.active\n",
        "sheet.title='Top Rated Movies'\n",
        "print(excel.sheetnames)\n",
        "sheet.append(['Movie Rank','Movie Name','Year Of Release','IMDB rating'])"
      ],
      "metadata": {
        "colab": {
          "base_uri": "https://localhost:8080/"
        },
        "id": "auG64lCm4QQm",
        "outputId": "9cec8421-aff5-4a58-ad8b-38d4dbe35254"
      },
      "execution_count": 38,
      "outputs": [
        {
          "output_type": "stream",
          "name": "stdout",
          "text": [
            "['Sheet']\n",
            "['Top Rated Movies']\n"
          ]
        }
      ]
    },
    {
      "cell_type": "code",
      "source": [
        "\n",
        "source = requests.get ('http://www.imdb.com/chart/top/')"
      ],
      "metadata": {
        "id": "s_DsD_fmmdoI"
      },
      "execution_count": 41,
      "outputs": []
    },
    {
      "cell_type": "code",
      "source": [
        "source.raise_for_status()\n"
      ],
      "metadata": {
        "id": "2IGMVQfRoQPX"
      },
      "execution_count": 42,
      "outputs": []
    },
    {
      "cell_type": "code",
      "source": [
        "soup = BeautifulSoup(source.text,'html.parser')\n",
        "#print(soup)\n",
        "\n",
        "movies = soup.find('tbody',class_='lister-list').find_all('tr')\n",
        "print(len(movies))\n"
      ],
      "metadata": {
        "colab": {
          "base_uri": "https://localhost:8080/"
        },
        "id": "g76Q1ruPs8oK",
        "outputId": "ebbb6504-e728-4cd2-f8ac-edf0aedac742"
      },
      "execution_count": 43,
      "outputs": [
        {
          "output_type": "stream",
          "name": "stdout",
          "text": [
            "250\n"
          ]
        }
      ]
    },
    {
      "cell_type": "code",
      "source": [
        "for movie in movies:\n",
        "  name = movie.find('td',class_=\"titleColumn\").a.text\n",
        "\n",
        "  rank = movie.find('td',class_=\"titleColumn\").get_text(strip=True)\n",
        "\n",
        "  year = movie.find('td',class_=\"titleColumn\").span.text \n",
        "\n",
        "  rating = movie.find('td',class_=\"ratingColumn imdbRating\").strong.text \n",
        "\n",
        "\n",
        "  print( rank , name , year , rating)\n",
        "\n",
        "  sheet.append([rank,name,year,rating])\n",
        "\n",
        "\n",
        "  excel.save('IMDB Movie Rating.xlsx')\n",
        "\n",
        " "
      ],
      "metadata": {
        "colab": {
          "base_uri": "https://localhost:8080/"
        },
        "id": "a0IWk_acugfs",
        "outputId": "e803f82d-039e-4a8c-99b1-72968232f5de"
      },
      "execution_count": 47,
      "outputs": [
        {
          "output_type": "stream",
          "name": "stdout",
          "text": [
            "1.The Shawshank Redemption(1994) The Shawshank Redemption (1994) 9.2\n",
            "2.The Godfather(1972) The Godfather (1972) 9.2\n",
            "3.The Dark Knight(2008) The Dark Knight (2008) 9.0\n",
            "4.The Godfather Part II(1974) The Godfather Part II (1974) 9.0\n",
            "5.12 Angry Men(1957) 12 Angry Men (1957) 9.0\n",
            "6.Schindler's List(1993) Schindler's List (1993) 8.9\n",
            "7.The Lord of the Rings: The Return of the King(2003) The Lord of the Rings: The Return of the King (2003) 8.9\n",
            "8.Pulp Fiction(1994) Pulp Fiction (1994) 8.8\n",
            "9.The Lord of the Rings: The Fellowship of the Ring(2001) The Lord of the Rings: The Fellowship of the Ring (2001) 8.8\n",
            "10.The Good, the Bad and the Ugly(1966) The Good, the Bad and the Ugly (1966) 8.8\n",
            "11.Forrest Gump(1994) Forrest Gump (1994) 8.8\n",
            "12.Fight Club(1999) Fight Club (1999) 8.7\n",
            "13.Inception(2010) Inception (2010) 8.7\n",
            "14.The Lord of the Rings: The Two Towers(2002) The Lord of the Rings: The Two Towers (2002) 8.7\n",
            "15.Star Wars: Episode V - The Empire Strikes Back(1980) Star Wars: Episode V - The Empire Strikes Back (1980) 8.7\n",
            "16.The Matrix(1999) The Matrix (1999) 8.7\n",
            "17.Goodfellas(1990) Goodfellas (1990) 8.7\n",
            "18.One Flew Over the Cuckoo's Nest(1975) One Flew Over the Cuckoo's Nest (1975) 8.6\n",
            "19.Se7en(1995) Se7en (1995) 8.6\n",
            "20.Seven Samurai(1954) Seven Samurai (1954) 8.6\n",
            "21.It's a Wonderful Life(1946) It's a Wonderful Life (1946) 8.6\n",
            "22.The Silence of the Lambs(1991) The Silence of the Lambs (1991) 8.6\n",
            "23.City of God(2002) City of God (2002) 8.6\n",
            "24.Saving Private Ryan(1998) Saving Private Ryan (1998) 8.6\n",
            "25.Life Is Beautiful(1997) Life Is Beautiful (1997) 8.6\n",
            "26.Interstellar(2014) Interstellar (2014) 8.6\n",
            "27.The Green Mile(1999) The Green Mile (1999) 8.6\n",
            "28.Star Wars(1977) Star Wars (1977) 8.6\n",
            "29.Terminator 2: Judgment Day(1991) Terminator 2: Judgment Day (1991) 8.5\n",
            "30.Back to the Future(1985) Back to the Future (1985) 8.5\n",
            "31.Spirited Away(2001) Spirited Away (2001) 8.5\n",
            "32.Psycho(1960) Psycho (1960) 8.5\n",
            "33.The Pianist(2002) The Pianist (2002) 8.5\n",
            "34.Parasite(2019) Parasite (2019) 8.5\n",
            "35.Léon: The Professional(1994) Léon: The Professional (1994) 8.5\n",
            "36.The Lion King(1994) The Lion King (1994) 8.5\n",
            "37.Gladiator(2000) Gladiator (2000) 8.5\n",
            "38.American History X(1998) American History X (1998) 8.5\n",
            "39.The Departed(2006) The Departed (2006) 8.5\n",
            "40.The Usual Suspects(1995) The Usual Suspects (1995) 8.5\n",
            "41.The Prestige(2006) The Prestige (2006) 8.5\n",
            "42.Casablanca(1942) Casablanca (1942) 8.5\n",
            "43.Whiplash(2014) Whiplash (2014) 8.5\n",
            "44.The Intouchables(2011) The Intouchables (2011) 8.5\n",
            "45.Harakiri(1962) Harakiri (1962) 8.5\n",
            "46.Grave of the Fireflies(1988) Grave of the Fireflies (1988) 8.5\n",
            "47.Modern Times(1936) Modern Times (1936) 8.4\n",
            "48.Once Upon a Time in the West(1968) Once Upon a Time in the West (1968) 8.4\n",
            "49.Rear Window(1954) Rear Window (1954) 8.4\n",
            "50.City Lights(1931) City Lights (1931) 8.4\n",
            "51.Alien(1979) Alien (1979) 8.4\n",
            "52.Cinema Paradiso(1988) Cinema Paradiso (1988) 8.4\n",
            "53.Apocalypse Now(1979) Apocalypse Now (1979) 8.4\n",
            "54.Memento(2000) Memento (2000) 8.4\n",
            "55.Raiders of the Lost Ark(1981) Raiders of the Lost Ark (1981) 8.4\n",
            "56.Django Unchained(2012) Django Unchained (2012) 8.4\n",
            "57.WALL·E(2008) WALL·E (2008) 8.4\n",
            "58.The Lives of Others(2006) The Lives of Others (2006) 8.4\n",
            "59.Sunset Blvd.(1950) Sunset Blvd. (1950) 8.4\n",
            "60.Paths of Glory(1957) Paths of Glory (1957) 8.4\n",
            "61.The Shining(1980) The Shining (1980) 8.4\n",
            "62.The Great Dictator(1940) The Great Dictator (1940) 8.4\n",
            "63.Witness for the Prosecution(1957) Witness for the Prosecution (1957) 8.4\n",
            "64.Avengers: Infinity War(2018) Avengers: Infinity War (2018) 8.4\n",
            "65.Aliens(1986) Aliens (1986) 8.3\n",
            "66.American Beauty(1999) American Beauty (1999) 8.3\n",
            "67.Spider-Man: Into the Spider-Verse(2018) Spider-Man: Into the Spider-Verse (2018) 8.3\n",
            "68.Dr. Strangelove or: How I Learned to Stop Worrying and Love the Bomb(1964) Dr. Strangelove or: How I Learned to Stop Worrying and Love the Bomb (1964) 8.3\n",
            "69.The Dark Knight Rises(2012) The Dark Knight Rises (2012) 8.3\n",
            "70.Oldboy(2003) Oldboy (2003) 8.3\n",
            "71.Joker(2019) Joker (2019) 8.3\n",
            "72.Amadeus(1984) Amadeus (1984) 8.3\n",
            "73.Toy Story(1995) Toy Story (1995) 8.3\n",
            "74.Braveheart(1995) Braveheart (1995) 8.3\n",
            "75.Inglourious Basterds(2009) Inglourious Basterds (2009) 8.3\n",
            "76.Coco(2017) Coco (2017) 8.3\n",
            "77.Top Gun: Maverick(2022) Top Gun: Maverick (2022) 8.3\n",
            "78.The Boat(1981) The Boat (1981) 8.3\n",
            "79.Avengers: Endgame(2019) Avengers: Endgame (2019) 8.3\n",
            "80.Princess Mononoke(1997) Princess Mononoke (1997) 8.3\n",
            "81.Once Upon a Time in America(1984) Once Upon a Time in America (1984) 8.3\n",
            "82.Good Will Hunting(1997) Good Will Hunting (1997) 8.3\n",
            "83.Your Name.(2016) Your Name. (2016) 8.3\n",
            "84.Requiem for a Dream(2000) Requiem for a Dream (2000) 8.3\n",
            "85.Toy Story 3(2010) Toy Story 3 (2010) 8.3\n",
            "86.Singin' in the Rain(1952) Singin' in the Rain (1952) 8.3\n",
            "87.3 Idiots(2009) 3 Idiots (2009) 8.3\n",
            "88.High and Low(1963) High and Low (1963) 8.3\n",
            "89.Star Wars: Episode VI - Return of the Jedi(1983) Star Wars: Episode VI - Return of the Jedi (1983) 8.3\n",
            "90.2001: A Space Odyssey(1968) 2001: A Space Odyssey (1968) 8.3\n",
            "91.Eternal Sunshine of the Spotless Mind(2004) Eternal Sunshine of the Spotless Mind (2004) 8.3\n",
            "92.Reservoir Dogs(1992) Reservoir Dogs (1992) 8.3\n",
            "93.Capernaum(2018) Capernaum (2018) 8.3\n",
            "94.The Hunt(2012) The Hunt (2012) 8.3\n",
            "95.Citizen Kane(1941) Citizen Kane (1941) 8.3\n",
            "96.Lawrence of Arabia(1962) Lawrence of Arabia (1962) 8.3\n",
            "97.M(1931) M (1931) 8.3\n",
            "98.Come and See(1985) Come and See (1985) 8.3\n",
            "99.North by Northwest(1959) North by Northwest (1959) 8.3\n",
            "100.Vertigo(1958) Vertigo (1958) 8.2\n",
            "101.Amélie(2001) Amélie (2001) 8.2\n",
            "102.A Clockwork Orange(1971) A Clockwork Orange (1971) 8.2\n",
            "103.The Apartment(1960) The Apartment (1960) 8.2\n",
            "104.Double Indemnity(1944) Double Indemnity (1944) 8.2\n",
            "105.Full Metal Jacket(1987) Full Metal Jacket (1987) 8.2\n",
            "106.Ikiru(1952) Ikiru (1952) 8.2\n",
            "107.Hamilton(2020) Hamilton (2020) 8.2\n",
            "108.Scarface(1983) Scarface (1983) 8.2\n",
            "109.The Sting(1973) The Sting (1973) 8.2\n",
            "110.To Kill a Mockingbird(1962) To Kill a Mockingbird (1962) 8.2\n",
            "111.Heat(1995) Heat (1995) 8.2\n",
            "112.Up(2009) Up (2009) 8.2\n",
            "113.Taxi Driver(1976) Taxi Driver (1976) 8.2\n",
            "114.Incendies(2010) Incendies (2010) 8.2\n",
            "115.Metropolis(1927) Metropolis (1927) 8.2\n",
            "116.A Separation(2011) A Separation (2011) 8.2\n",
            "117.L.A. Confidential(1997) L.A. Confidential (1997) 8.2\n",
            "118.Snatch(2000) Snatch (2000) 8.2\n",
            "119.Bicycle Thieves(1948) Bicycle Thieves (1948) 8.2\n",
            "120.Die Hard(1988) Die Hard (1988) 8.2\n",
            "121.Indiana Jones and the Last Crusade(1989) Indiana Jones and the Last Crusade (1989) 8.2\n",
            "122.1917(2019) 1917 (2019) 8.2\n",
            "123.Like Stars on Earth(2007) Like Stars on Earth (2007) 8.2\n",
            "124.Downfall(2004) Downfall (2004) 8.2\n",
            "125.For a Few Dollars More(1965) For a Few Dollars More (1965) 8.2\n",
            "126.Batman Begins(2005) Batman Begins (2005) 8.2\n",
            "127.Dangal(2016) Dangal (2016) 8.2\n",
            "128.The Kid(1921) The Kid (1921) 8.2\n",
            "129.Some Like It Hot(1959) Some Like It Hot (1959) 8.2\n",
            "130.All About Eve(1950) All About Eve (1950) 8.2\n",
            "131.The Father(2020) The Father (2020) 8.2\n",
            "132.Green Book(2018) Green Book (2018) 8.2\n",
            "133.The Wolf of Wall Street(2013) The Wolf of Wall Street (2013) 8.2\n",
            "134.Judgment at Nuremberg(1961) Judgment at Nuremberg (1961) 8.2\n",
            "135.Ran(1985) Ran (1985) 8.2\n",
            "136.Casino(1995) Casino (1995) 8.2\n",
            "137.Pan's Labyrinth(2006) Pan's Labyrinth (2006) 8.2\n",
            "138.Unforgiven(1992) Unforgiven (1992) 8.2\n",
            "139.There Will Be Blood(2007) There Will Be Blood (2007) 8.2\n",
            "140.Spider-Man: No Way Home(2021) Spider-Man: No Way Home (2021) 8.2\n",
            "141.The Truman Show(1998) The Truman Show (1998) 8.2\n",
            "142.The Sixth Sense(1999) The Sixth Sense (1999) 8.2\n",
            "143.A Beautiful Mind(2001) A Beautiful Mind (2001) 8.2\n",
            "144.Yojimbo(1961) Yojimbo (1961) 8.2\n",
            "145.Monty Python and the Holy Grail(1975) Monty Python and the Holy Grail (1975) 8.1\n",
            "146.The Treasure of the Sierra Madre(1948) The Treasure of the Sierra Madre (1948) 8.1\n",
            "147.Shutter Island(2010) Shutter Island (2010) 8.1\n",
            "148.Jurassic Park(1993) Jurassic Park (1993) 8.1\n",
            "149.Rashomon(1950) Rashomon (1950) 8.1\n",
            "150.The Great Escape(1963) The Great Escape (1963) 8.1\n",
            "151.Kill Bill: Vol. 1(2003) Kill Bill: Vol. 1 (2003) 8.1\n",
            "152.No Country for Old Men(2007) No Country for Old Men (2007) 8.1\n",
            "153.Finding Nemo(2003) Finding Nemo (2003) 8.1\n",
            "154.The Elephant Man(1980) The Elephant Man (1980) 8.1\n",
            "155.Chinatown(1974) Chinatown (1974) 8.1\n",
            "156.Raging Bull(1980) Raging Bull (1980) 8.1\n",
            "157.The Thing(1982) The Thing (1982) 8.1\n",
            "158.Gone with the Wind(1939) Gone with the Wind (1939) 8.1\n",
            "159.V for Vendetta(2005) V for Vendetta (2005) 8.1\n",
            "160.Inside Out(2015) Inside Out (2015) 8.1\n",
            "161.Lock, Stock and Two Smoking Barrels(1998) Lock, Stock and Two Smoking Barrels (1998) 8.1\n",
            "162.Dial M for Murder(1954) Dial M for Murder (1954) 8.1\n",
            "163.The Secret in Their Eyes(2009) The Secret in Their Eyes (2009) 8.1\n",
            "164.Howl's Moving Castle(2004) Howl's Moving Castle (2004) 8.1\n",
            "165.The Bridge on the River Kwai(1957) The Bridge on the River Kwai (1957) 8.1\n",
            "166.Three Billboards Outside Ebbing, Missouri(2017) Three Billboards Outside Ebbing, Missouri (2017) 8.1\n",
            "167.Trainspotting(1996) Trainspotting (1996) 8.1\n",
            "168.Warrior(2011) Warrior (2011) 8.1\n",
            "169.Gran Torino(2008) Gran Torino (2008) 8.1\n",
            "170.Fargo(1996) Fargo (1996) 8.1\n",
            "171.Prisoners(2013) Prisoners (2013) 8.1\n",
            "172.My Neighbor Totoro(1988) My Neighbor Totoro (1988) 8.1\n",
            "173.Million Dollar Baby(2004) Million Dollar Baby (2004) 8.1\n",
            "174.Catch Me If You Can(2002) Catch Me If You Can (2002) 8.1\n",
            "175.The Gold Rush(1925) The Gold Rush (1925) 8.1\n",
            "176.Children of Heaven(1997) Children of Heaven (1997) 8.1\n",
            "177.Blade Runner(1982) Blade Runner (1982) 8.1\n",
            "178.On the Waterfront(1954) On the Waterfront (1954) 8.1\n",
            "179.The Third Man(1949) The Third Man (1949) 8.1\n",
            "180.12 Years a Slave(2013) 12 Years a Slave (2013) 8.1\n",
            "181.Before Sunrise(1995) Before Sunrise (1995) 8.1\n",
            "182.Wild Strawberries(1957) Wild Strawberries (1957) 8.1\n",
            "183.Harry Potter and the Deathly Hallows: Part 2(2011) Harry Potter and the Deathly Hallows: Part 2 (2011) 8.1\n",
            "184.Ben-Hur(1959) Ben-Hur (1959) 8.1\n",
            "185.Gone Girl(2014) Gone Girl (2014) 8.1\n",
            "186.The General(1926) The General (1926) 8.1\n",
            "187.The Deer Hunter(1978) The Deer Hunter (1978) 8.1\n",
            "188.In the Name of the Father(1993) In the Name of the Father (1993) 8.1\n",
            "189.The Grand Budapest Hotel(2014) The Grand Budapest Hotel (2014) 8.1\n",
            "190.Barry Lyndon(1975) Barry Lyndon (1975) 8.1\n",
            "191.The Wages of Fear(1953) The Wages of Fear (1953) 8.1\n",
            "192.Sherlock Jr.(1924) Sherlock Jr. (1924) 8.1\n",
            "193.Mr. Smith Goes to Washington(1939) Mr. Smith Goes to Washington (1939) 8.1\n",
            "194.Memories of Murder(2003) Memories of Murder (2003) 8.1\n",
            "195.Hacksaw Ridge(2016) Hacksaw Ridge (2016) 8.1\n",
            "196.Klaus(2019) Klaus (2019) 8.1\n",
            "197.Wild Tales(2014) Wild Tales (2014) 8.1\n",
            "198.The Seventh Seal(1957) The Seventh Seal (1957) 8.1\n",
            "199.Room(2015) Room (2015) 8.1\n",
            "200.Mad Max: Fury Road(2015) Mad Max: Fury Road (2015) 8.1\n",
            "201.Mary and Max(2009) Mary and Max (2009) 8.1\n",
            "202.How to Train Your Dragon(2010) How to Train Your Dragon (2010) 8.1\n",
            "203.The Big Lebowski(1998) The Big Lebowski (1998) 8.1\n",
            "204.Monsters, Inc.(2001) Monsters, Inc. (2001) 8.1\n",
            "205.Jaws(1975) Jaws (1975) 8.1\n",
            "206.The Passion of Joan of Arc(1928) The Passion of Joan of Arc (1928) 8.1\n",
            "207.Tokyo Story(1953) Tokyo Story (1953) 8.1\n",
            "208.Dead Poets Society(1989) Dead Poets Society (1989) 8.1\n",
            "209.Hotel Rwanda(2004) Hotel Rwanda (2004) 8.1\n",
            "210.Everything Everywhere All at Once(2022) Everything Everywhere All at Once (2022) 8.0\n",
            "211.Ford v Ferrari(2019) Ford v Ferrari (2019) 8.0\n",
            "212.Rocky(1976) Rocky (1976) 8.0\n",
            "213.Platoon(1986) Platoon (1986) 8.0\n",
            "214.Pather Panchali(1955) Pather Panchali (1955) 8.0\n",
            "215.Stand by Me(1986) Stand by Me (1986) 8.0\n",
            "216.The Terminator(1984) The Terminator (1984) 8.0\n",
            "217.Spotlight(2015) Spotlight (2015) 8.0\n",
            "218.Rush(2013) Rush (2013) 8.0\n",
            "219.Logan(2017) Logan (2017) 8.0\n",
            "220.Ratatouille(2007) Ratatouille (2007) 8.0\n",
            "221.Network(1976) Network (1976) 8.0\n",
            "222.Into the Wild(2007) Into the Wild (2007) 8.0\n",
            "223.The Wizard of Oz(1939) The Wizard of Oz (1939) 8.0\n",
            "224.Before Sunset(2004) Before Sunset (2004) 8.0\n",
            "225.Groundhog Day(1993) Groundhog Day (1993) 8.0\n",
            "226.The Exorcist(1973) The Exorcist (1973) 8.0\n",
            "227.The Best Years of Our Lives(1946) The Best Years of Our Lives (1946) 8.0\n",
            "228.To Be or Not to Be(1942) To Be or Not to Be (1942) 8.0\n",
            "229.The Incredibles(2004) The Incredibles (2004) 8.0\n",
            "230.The Battle of Algiers(1966) The Battle of Algiers (1966) 8.0\n",
            "231.Jai Bhim(2021) Jai Bhim (2021) 8.0\n",
            "232.Hachi: A Dog's Tale(2009) Hachi: A Dog's Tale (2009) 8.0\n",
            "233.The Grapes of Wrath(1940) The Grapes of Wrath (1940) 8.0\n",
            "234.Rebecca(1940) Rebecca (1940) 8.0\n",
            "235.Amores perros(2000) Amores perros (2000) 8.0\n",
            "236.My Father and My Son(2005) My Father and My Son (2005) 8.0\n",
            "237.Pirates of the Caribbean: The Curse of the Black Pearl(2003) Pirates of the Caribbean: The Curse of the Black Pearl (2003) 8.0\n",
            "238.La Haine(1995) La Haine (1995) 8.0\n",
            "239.Cool Hand Luke(1967) Cool Hand Luke (1967) 8.0\n",
            "240.The 400 Blows(1959) The 400 Blows (1959) 8.0\n",
            "241.Persona(1966) Persona (1966) 8.0\n",
            "242.It Happened One Night(1934) It Happened One Night (1934) 8.0\n",
            "243.The Handmaiden(2016) The Handmaiden (2016) 8.0\n",
            "244.Life of Brian(1979) Life of Brian (1979) 8.0\n",
            "245.The Sound of Music(1965) The Sound of Music (1965) 8.0\n",
            "246.Dersu Uzala(1975) Dersu Uzala (1975) 8.0\n",
            "247.Gandhi(1982) Gandhi (1982) 8.0\n",
            "248.The Help(2011) The Help (2011) 8.0\n",
            "249.Aladdin(1992) Aladdin (1992) 8.0\n",
            "250.The Iron Giant(1999) The Iron Giant (1999) 8.0\n"
          ]
        }
      ]
    },
    {
      "cell_type": "markdown",
      "source": [
        "# New section"
      ],
      "metadata": {
        "id": "5x6DPpru6mQe"
      }
    },
    {
      "cell_type": "markdown",
      "source": [
        "# New section"
      ],
      "metadata": {
        "id": "AlFBV8_V6m6y"
      }
    },
    {
      "cell_type": "markdown",
      "source": [
        "# New section"
      ],
      "metadata": {
        "id": "1B6T0hM0FFJd"
      }
    },
    {
      "cell_type": "code",
      "source": [],
      "metadata": {
        "id": "lkVOHT6pwWFl"
      },
      "execution_count": null,
      "outputs": []
    },
    {
      "cell_type": "code",
      "source": [],
      "metadata": {
        "id": "nvPtR-s7tQCv"
      },
      "execution_count": null,
      "outputs": []
    }
  ]
}